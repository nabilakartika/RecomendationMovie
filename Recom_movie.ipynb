{
  "nbformat": 4,
  "nbformat_minor": 0,
  "metadata": {
    "colab": {
      "provenance": [],
      "authorship_tag": "ABX9TyPbKG0IljMecRMMzvz1usPJ",
      "include_colab_link": true
    },
    "kernelspec": {
      "name": "python3",
      "display_name": "Python 3"
    },
    "language_info": {
      "name": "python"
    }
  },
  "cells": [
    {
      "cell_type": "markdown",
      "metadata": {
        "id": "view-in-github",
        "colab_type": "text"
      },
      "source": [
        "<a href=\"https://colab.research.google.com/github/nabilakartika/RecomendationMovie/blob/main/Recom_movie.ipynb\" target=\"_parent\"><img src=\"https://colab.research.google.com/assets/colab-badge.svg\" alt=\"Open In Colab\"/></a>"
      ]
    },
    {
      "cell_type": "code",
      "execution_count": 1,
      "metadata": {
        "id": "sduWJ8IbdNF9"
      },
      "outputs": [],
      "source": [
        "import tensorflow as tf\n",
        "from tensorflow.keras.models import load_model\n",
        "import numpy as np"
      ]
    },
    {
      "cell_type": "code",
      "source": [
        "# Load the trained model\n",
        "model = load_model('NetflixRecommendation.h5')"
      ],
      "metadata": {
        "id": "XBaQDf42dhYt"
      },
      "execution_count": null,
      "outputs": []
    },
    {
      "cell_type": "code",
      "source": [
        "# Define a function to make predictions\n",
        "def recommend(user_id, movie_ids):\n",
        "    user_id = np.array([user_id])\n",
        "    movie_ids = np.array(movie_ids)\n",
        "    predictions = model.predict([user_id, movie_ids])\n",
        "    recommended_movie_ids = movie_ids[np.argsort(predictions)[::-1]]\n",
        "    return recommended_movie_ids\n",
        "\n",
        "# Test the recommendation function\n",
        "user_id = 1\n",
        "movie_ids = [101, 102, 103, 104, 105]\n",
        "recommendations = recommend(user_id, movie_ids)\n",
        "print(\"Recommended Movie IDs:\", recommendations)"
      ],
      "metadata": {
        "id": "xxHMQT8OdXrH"
      },
      "execution_count": null,
      "outputs": []
    }
  ]
}